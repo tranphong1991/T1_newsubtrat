{
 "cells": [
  {
   "cell_type": "code",
   "execution_count": 4,
   "metadata": {
    "collapsed": false
   },
   "outputs": [
    {
     "ename": "PlotlyLocalCredentialsError",
     "evalue": "\nCouldn't find a 'username', 'api-key' pair for you on your local machine. To sign in temporarily (until you stop running Python), run:\n>>> import plotly.plotly as py\n>>> py.sign_in('username', 'api_key')\n\nEven better, save your credentials permanently using the 'tools' module:\n>>> import plotly.tools as tls\n>>> tls.set_credentials_file(username='username', api_key='api-key')\n\nFor more help, see https://plot.ly/python.\n",
     "output_type": "error",
     "traceback": [
      "\u001b[0;31m---------------------------------------------------------------------------\u001b[0m",
      "\u001b[0;31mPlotlyLocalCredentialsError\u001b[0m               Traceback (most recent call last)",
      "\u001b[0;32m<ipython-input-4-957f986f5cd2>\u001b[0m in \u001b[0;36m<module>\u001b[0;34m()\u001b[0m\n\u001b[1;32m     29\u001b[0m \u001b[1;33m\u001b[0m\u001b[0m\n\u001b[1;32m     30\u001b[0m \u001b[1;33m\u001b[0m\u001b[0m\n\u001b[0;32m---> 31\u001b[0;31m \u001b[0mplot_url\u001b[0m \u001b[1;33m=\u001b[0m \u001b[0mpy\u001b[0m\u001b[1;33m.\u001b[0m\u001b[0mplot_mpl\u001b[0m\u001b[1;33m(\u001b[0m\u001b[0mfig\u001b[0m\u001b[1;33m,\u001b[0m \u001b[0mfilename\u001b[0m\u001b[1;33m=\u001b[0m\u001b[1;34m'mpl-basic-fft'\u001b[0m\u001b[1;33m)\u001b[0m\u001b[1;33m\u001b[0m\u001b[0m\n\u001b[0m",
      "\u001b[0;32mC:\\Users\\Phong\\Anaconda3\\lib\\site-packages\\plotly\\plotly\\plotly.py\u001b[0m in \u001b[0;36mplot_mpl\u001b[0;34m(fig, resize, strip_style, update, **plot_options)\u001b[0m\n\u001b[1;32m    313\u001b[0m             \u001b[1;34m\"object. Run 'help(plotly.graph_objs.Figure)' for more info.\"\u001b[0m\u001b[1;33m\u001b[0m\u001b[0m\n\u001b[1;32m    314\u001b[0m         )\n\u001b[0;32m--> 315\u001b[0;31m     \u001b[1;32mreturn\u001b[0m \u001b[0mplot\u001b[0m\u001b[1;33m(\u001b[0m\u001b[0mfig\u001b[0m\u001b[1;33m,\u001b[0m \u001b[1;33m**\u001b[0m\u001b[0mplot_options\u001b[0m\u001b[1;33m)\u001b[0m\u001b[1;33m\u001b[0m\u001b[0m\n\u001b[0m\u001b[1;32m    316\u001b[0m \u001b[1;33m\u001b[0m\u001b[0m\n\u001b[1;32m    317\u001b[0m \u001b[1;33m\u001b[0m\u001b[0m\n",
      "\u001b[0;32mC:\\Users\\Phong\\Anaconda3\\lib\\site-packages\\plotly\\plotly\\plotly.py\u001b[0m in \u001b[0;36mplot\u001b[0;34m(figure_or_data, validate, **plot_options)\u001b[0m\n\u001b[1;32m    239\u001b[0m \u001b[1;33m\u001b[0m\u001b[0m\n\u001b[1;32m    240\u001b[0m     \u001b[0mplot_options\u001b[0m \u001b[1;33m=\u001b[0m \u001b[0m_plot_option_logic\u001b[0m\u001b[1;33m(\u001b[0m\u001b[0mplot_options\u001b[0m\u001b[1;33m)\u001b[0m\u001b[1;33m\u001b[0m\u001b[0m\n\u001b[0;32m--> 241\u001b[0;31m     \u001b[0mres\u001b[0m \u001b[1;33m=\u001b[0m \u001b[0m_send_to_plotly\u001b[0m\u001b[1;33m(\u001b[0m\u001b[0mfigure\u001b[0m\u001b[1;33m,\u001b[0m \u001b[1;33m**\u001b[0m\u001b[0mplot_options\u001b[0m\u001b[1;33m)\u001b[0m\u001b[1;33m\u001b[0m\u001b[0m\n\u001b[0m\u001b[1;32m    242\u001b[0m     \u001b[1;32mif\u001b[0m \u001b[0mres\u001b[0m\u001b[1;33m[\u001b[0m\u001b[1;34m'error'\u001b[0m\u001b[1;33m]\u001b[0m \u001b[1;33m==\u001b[0m \u001b[1;34m''\u001b[0m\u001b[1;33m:\u001b[0m\u001b[1;33m\u001b[0m\u001b[0m\n\u001b[1;32m    243\u001b[0m         \u001b[1;32mif\u001b[0m \u001b[0mplot_options\u001b[0m\u001b[1;33m[\u001b[0m\u001b[1;34m'auto_open'\u001b[0m\u001b[1;33m]\u001b[0m\u001b[1;33m:\u001b[0m\u001b[1;33m\u001b[0m\u001b[0m\n",
      "\u001b[0;32mC:\\Users\\Phong\\Anaconda3\\lib\\site-packages\\plotly\\plotly\\plotly.py\u001b[0m in \u001b[0;36m_send_to_plotly\u001b[0;34m(figure, **plot_options)\u001b[0m\n\u001b[1;32m   1401\u001b[0m                       cls=utils.PlotlyJSONEncoder)\n\u001b[1;32m   1402\u001b[0m     \u001b[0mcredentials\u001b[0m \u001b[1;33m=\u001b[0m \u001b[0mget_credentials\u001b[0m\u001b[1;33m(\u001b[0m\u001b[1;33m)\u001b[0m\u001b[1;33m\u001b[0m\u001b[0m\n\u001b[0;32m-> 1403\u001b[0;31m     \u001b[0mvalidate_credentials\u001b[0m\u001b[1;33m(\u001b[0m\u001b[0mcredentials\u001b[0m\u001b[1;33m)\u001b[0m\u001b[1;33m\u001b[0m\u001b[0m\n\u001b[0m\u001b[1;32m   1404\u001b[0m     \u001b[0musername\u001b[0m \u001b[1;33m=\u001b[0m \u001b[0mcredentials\u001b[0m\u001b[1;33m[\u001b[0m\u001b[1;34m'username'\u001b[0m\u001b[1;33m]\u001b[0m\u001b[1;33m\u001b[0m\u001b[0m\n\u001b[1;32m   1405\u001b[0m     \u001b[0mapi_key\u001b[0m \u001b[1;33m=\u001b[0m \u001b[0mcredentials\u001b[0m\u001b[1;33m[\u001b[0m\u001b[1;34m'api_key'\u001b[0m\u001b[1;33m]\u001b[0m\u001b[1;33m\u001b[0m\u001b[0m\n",
      "\u001b[0;32mC:\\Users\\Phong\\Anaconda3\\lib\\site-packages\\plotly\\plotly\\plotly.py\u001b[0m in \u001b[0;36mvalidate_credentials\u001b[0;34m(credentials)\u001b[0m\n\u001b[1;32m   1350\u001b[0m     \u001b[0mapi_key\u001b[0m \u001b[1;33m=\u001b[0m \u001b[0mcredentials\u001b[0m\u001b[1;33m.\u001b[0m\u001b[0mget\u001b[0m\u001b[1;33m(\u001b[0m\u001b[1;34m'api_key'\u001b[0m\u001b[1;33m)\u001b[0m\u001b[1;33m\u001b[0m\u001b[0m\n\u001b[1;32m   1351\u001b[0m     \u001b[1;32mif\u001b[0m \u001b[1;32mnot\u001b[0m \u001b[0musername\u001b[0m \u001b[1;32mor\u001b[0m \u001b[1;32mnot\u001b[0m \u001b[0mapi_key\u001b[0m\u001b[1;33m:\u001b[0m\u001b[1;33m\u001b[0m\u001b[0m\n\u001b[0;32m-> 1352\u001b[0;31m         \u001b[1;32mraise\u001b[0m \u001b[0mexceptions\u001b[0m\u001b[1;33m.\u001b[0m\u001b[0mPlotlyLocalCredentialsError\u001b[0m\u001b[1;33m(\u001b[0m\u001b[1;33m)\u001b[0m\u001b[1;33m\u001b[0m\u001b[0m\n\u001b[0m\u001b[1;32m   1353\u001b[0m \u001b[1;33m\u001b[0m\u001b[0m\n\u001b[1;32m   1354\u001b[0m \u001b[1;33m\u001b[0m\u001b[0m\n",
      "\u001b[0;31mPlotlyLocalCredentialsError\u001b[0m: \nCouldn't find a 'username', 'api-key' pair for you on your local machine. To sign in temporarily (until you stop running Python), run:\n>>> import plotly.plotly as py\n>>> py.sign_in('username', 'api_key')\n\nEven better, save your credentials permanently using the 'tools' module:\n>>> import plotly.tools as tls\n>>> tls.set_credentials_file(username='username', api_key='api-key')\n\nFor more help, see https://plot.ly/python.\n"
     ]
    }
   ],
   "source": [
    "import numpy as np\n",
    "import matplotlib.pyplot as plt\n",
    "from scipy import fft\n",
    "\n",
    "Fs = 150                         # sampling rate\n",
    "Ts = 1.0/Fs                      # sampling interval\n",
    "t = np.arange(0,1,Ts)            # time vector\n",
    "ff = 5                           # frequency of the signal\n",
    "y = np.sin(2 * np.pi * ff * t)\n",
    "\n",
    "\n",
    "\n",
    "n = len(y)                       # length of the signal\n",
    "k = np.arange(n)\n",
    "T = n/Fs\n",
    "frq = k/T # two sides frequency range\n",
    "freq = frq[range(int(n/2))]           # one side frequency range\n",
    "\n",
    "Y = np.fft.fft(y)/n              # fft computing and normalization\n",
    "Y = Y[range(int(n/2))]\n",
    "\n",
    "fig, ax = plt.subplots(2, 1)\n",
    "ax[0].plot(t,y)\n",
    "ax[0].set_xlabel('Time')\n",
    "ax[0].set_ylabel('Amplitude')\n",
    "ax[1].plot(freq,abs(Y),'r') # plotting the spectrum\n",
    "ax[1].set_xlabel('Freq (Hz)')\n",
    "ax[1].set_ylabel('|Y(freq)|')\n",
    "\n",
    "\n",
    "plot_url = py.plot_mpl(fig, filename='mpl-basic-fft')"
   ]
  },
  {
   "cell_type": "code",
   "execution_count": 7,
   "metadata": {
    "collapsed": false
   },
   "outputs": [
    {
     "data": {
      "text/plain": [
       "150"
      ]
     },
     "execution_count": 7,
     "metadata": {},
     "output_type": "execute_result"
    }
   ],
   "source": [
    "n"
   ]
  },
  {
   "cell_type": "code",
   "execution_count": null,
   "metadata": {
    "collapsed": true
   },
   "outputs": [],
   "source": []
  }
 ],
 "metadata": {
  "kernelspec": {
   "display_name": "Python [conda root]",
   "language": "python",
   "name": "conda-root-py"
  },
  "language_info": {
   "codemirror_mode": {
    "name": "ipython",
    "version": 3
   },
   "file_extension": ".py",
   "mimetype": "text/x-python",
   "name": "python",
   "nbconvert_exporter": "python",
   "pygments_lexer": "ipython3",
   "version": "3.5.2"
  }
 },
 "nbformat": 4,
 "nbformat_minor": 1
}
